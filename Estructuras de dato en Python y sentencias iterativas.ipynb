{
 "cells": [
  {
   "cell_type": "markdown",
   "id": "275df057-6def-46d7-824d-7877a0b49e96",
   "metadata": {},
   "source": [
    "## Entregable Estructuras de datos en python y sentencias iterativas "
   ]
  },
  {
   "cell_type": "markdown",
   "id": "5f0fd838-da48-411b-ac70-db0c6e3d623b",
   "metadata": {},
   "source": [
    "# Código inicial"
   ]
  },
  {
   "cell_type": "code",
   "execution_count": 29,
   "id": "06ba0798-253a-4285-baa5-e5513879e2c2",
   "metadata": {},
   "outputs": [],
   "source": [
    "class AnalizadorFinanciero:\n",
    "\n",
    "# Calcula el total de ingresos en una lista de transacciones\n",
    "    def calcular_total_ingresos(self, transacciones):\n",
    "        total = 0\n",
    "        for ingreso in transacciones:\n",
    "            total += ingreso\n",
    "        return total\n",
    "\n",
    "# Filtra y retorna solo los ingresos mayores a un umbral dado\n",
    "    def filtrar_ingresos_altos(self, transacciones, umbral):\n",
    "        ingresos_altos = []\n",
    "        for ingreso in transacciones:\n",
    "            if ingreso > umbral:\n",
    "                ingresos_altos.append(ingreso)\n",
    "        return ingresos_altos\n",
    "\n",
    "# Agrupa ingresos en un diccionario por categorías\n",
    "\n",
    "    def agrupar_por_categoria(self, transacciones,categorias):\n",
    "        agrupado = {}\n",
    "        for categoria, ingreso in zip(categorias,transacciones):\n",
    "            if categoria in agrupado:\n",
    "                agrupado[categoria].append(ingreso)\n",
    "            else:\n",
    "                agrupado[categoria] = [ingreso]\n",
    "        return agrupado\n"
   ]
  },
  {
   "cell_type": "markdown",
   "id": "37cebe59-e72e-4184-bd77-c5fdd6e03280",
   "metadata": {},
   "source": [
    "# Ventajas\n",
    "**Listas (list)**\n",
    "- Permiten almacenar transacciones en orden.\n",
    "- Son fáciles de recorrer y manipular con comprensión de listas.\n",
    "- Flexibles y dinámicas, ideales para secuencias simples como montos de ingresos.\n",
    "\n",
    "**Diccionarios (dict)**\n",
    "- Facilitan el agrupamiento de transacciones por categorías.\n",
    "- Permiten acceso rápido mediante claves.\n",
    "- Escalables y legibles para representar estructuras jerárquicas.\n",
    "\n",
    "**Conjuntos (set)**\n",
    "- Útiles para eliminar duplicados en categorías.\n",
    "- Permiten búsquedas muy rápidas (O(1) promedio).\n",
    "- Ideales para validar existencia de una categoría sin repeticiones.\n",
    "\n",
    "**Limitaciones**\n",
    "- Las listas no son eficientes para búsquedas o deduplicación → mejor usar set.\n",
    "- No se manejan transacciones con estructura más compleja (como fecha, tipo, monto).\n",
    "- No se controla la consistencia entre el número de categorías y transacciones."
   ]
  },
  {
   "cell_type": "markdown",
   "id": "922a9716-167a-41a6-8a9f-f1fd6c86ef89",
   "metadata": {},
   "source": [
    "# Optimizador de sentencias iterativas"
   ]
  },
  {
   "cell_type": "code",
   "execution_count": 30,
   "id": "f6e7457d-2e4a-47cb-aef6-fe0827d9a8f2",
   "metadata": {},
   "outputs": [],
   "source": [
    "class AnalizadorFinanciero:\n",
    "    def calcular_total_ingresos(self, transacciones):\n",
    "        return sum(transacciones)\n",
    "\n",
    "    def filtrar_ingresos_altos(self, transacciones, umbral):\n",
    "        return [ingreso for ingreso in transacciones if ingreso > umbral]\n",
    "\n",
    "    def agrupar_por_categoria(self, transacciones, categorias):\n",
    "        agrupado = {}\n",
    "        for categoria, ingreso in zip(categorias, transacciones):\n",
    "            agrupado.setdefault(categoria, []).append(ingreso)\n",
    "        return agrupado\n",
    "\n",
    "    def obtener_categorias_unicas(self, categorias):\n",
    "        return set(categorias)\n"
   ]
  },
  {
   "cell_type": "code",
   "execution_count": 34,
   "id": "33d9cb29-6ad5-4ead-bcd9-b0c66f4da4ba",
   "metadata": {},
   "outputs": [
    {
     "name": "stdout",
     "output_type": "stream",
     "text": [
      "✔ Todas las pruebas pasaron correctamente.\n"
     ]
    }
   ],
   "source": [
    "def test_analizador():\n",
    "    analizador = AnalizadorFinanciero()\n",
    "    transacciones = [100, 200, 300, 400]\n",
    "    categorias = [\"salario\", \"bono\", \"salario\", \"venta\"]\n",
    "\n",
    "    assert analizador.calcular_total_ingresos(transacciones) == 1000\n",
    "    assert analizador.filtrar_ingresos_altos(transacciones, 250) == [300, 400]\n",
    "\n",
    "    esperado = {\n",
    "        \"salario\": [100, 300],\n",
    "        \"bono\": [200],\n",
    "        \"venta\": [400]\n",
    "    }\n",
    "    assert analizador.agrupar_por_categoria(transacciones, categorias) == esperado\n",
    "    assert analizador.obtener_categorias_unicas(categorias) == {\"salario\", \"bono\", \"venta\"}\n",
    "\n",
    "    print(\"✔ Todas las pruebas pasaron correctamente.\")\n",
    "\n",
    "if __name__ == \"__main__\":\n",
    "    test_analizador()\n"
   ]
  },
  {
   "cell_type": "code",
   "execution_count": 35,
   "id": "a4500813-61a5-4de0-928a-cab2ab2b63f4",
   "metadata": {},
   "outputs": [
    {
     "name": "stdout",
     "output_type": "stream",
     "text": [
      "▶ Caso de prueba: calcular_total_ingresos\n",
      "Esperado: 1000 - Obtenido: 1000\n",
      "▶ Caso de prueba: filtrar_ingresos_altos (umbral = 250)\n",
      "Esperado: [300, 400] - Obtenido: [300, 400]\n",
      "▶ Caso de prueba: agrupar_por_categoria\n",
      "Esperado: {'salario': [100, 300], 'bono': [200], 'venta': [400]}\n",
      "Obtenido: {'salario': [100, 300], 'bono': [200], 'venta': [400]}\n",
      "▶ Caso de prueba: obtener_categorias_unicas\n",
      "Esperado: {'venta', 'salario', 'bono'}\n",
      "Obtenido: {'venta', 'salario', 'bono'}\n",
      "✔ Todas las pruebas pasaron correctamente.\n"
     ]
    }
   ],
   "source": [
    "# 🔍 Caso de prueba: valores esperados vs resultados reales\n",
    "def test_analizador():\n",
    "    analizador = AnalizadorFinanciero()\n",
    "    \n",
    "    transacciones = [100, 200, 300, 400]\n",
    "    categorias = [\"salario\", \"bono\", \"salario\", \"venta\"]\n",
    "\n",
    "    print(\"▶ Caso de prueba: calcular_total_ingresos\")\n",
    "    resultado_total = analizador.calcular_total_ingresos(transacciones)\n",
    "    print(\"Esperado: 1000 - Obtenido:\", resultado_total)\n",
    "    assert resultado_total == 1000\n",
    "\n",
    "    print(\"▶ Caso de prueba: filtrar_ingresos_altos (umbral = 250)\")\n",
    "    resultado_filtrado = analizador.filtrar_ingresos_altos(transacciones, 250)\n",
    "    print(\"Esperado: [300, 400] - Obtenido:\", resultado_filtrado)\n",
    "    assert resultado_filtrado == [300, 400]\n",
    "\n",
    "    print(\"▶ Caso de prueba: agrupar_por_categoria\")\n",
    "    resultado_agrupado = analizador.agrupar_por_categoria(transacciones, categorias)\n",
    "    esperado_agrupado = {\n",
    "        \"salario\": [100, 300],\n",
    "        \"bono\": [200],\n",
    "        \"venta\": [400]\n",
    "    }\n",
    "    print(\"Esperado:\", esperado_agrupado)\n",
    "    print(\"Obtenido:\", resultado_agrupado)\n",
    "    assert resultado_agrupado == esperado_agrupado\n",
    "\n",
    "    print(\"▶ Caso de prueba: obtener_categorias_unicas\")\n",
    "    resultado_categorias = analizador.obtener_categorias_unicas(categorias)\n",
    "    esperado_categorias = {\"salario\", \"bono\", \"venta\"}\n",
    "    print(\"Esperado:\", esperado_categorias)\n",
    "    print(\"Obtenido:\", resultado_categorias)\n",
    "    assert resultado_categorias == esperado_categorias\n",
    "\n",
    "    print(\"✔ Todas las pruebas pasaron correctamente.\")\n",
    "\n",
    "\n",
    "# ▶ Ejecutar prueba si se corre directamente\n",
    "if __name__ == \"__main__\":\n",
    "    test_analizador()"
   ]
  },
  {
   "cell_type": "markdown",
   "id": "5f672fdc-a853-476a-aba2-55c03873eaf6",
   "metadata": {},
   "source": [
    "# Reflexión Final\n",
    "Este ejercicio permitió aplicar principios clave de programación eficiente en Python:\n",
    "- Las expresiones generadoras y la comprensión de listas mejoran la claridad del código y reducen el uso innecesario de memoria.\n",
    "- El uso de set() facilita tareas comunes como deduplicación y verificación rápida.\n",
    "- La incorporación de pruebas unitarias básicas garantiza la confiabilidad del sistema.\n",
    "- Refactorizar funciones con estas herramientas hace que el código sea más legible, mantenible y escalable para escenarios reales como los de DataSolvers.\n",
    "\n",
    "Este tipo de mejoras son fundamentales para cualquier sistema que crezca en volumen de datos y complejidad de lógica."
   ]
  }
 ],
 "metadata": {
  "kernelspec": {
   "display_name": "Python 3 (ipykernel)",
   "language": "python",
   "name": "python3"
  },
  "language_info": {
   "codemirror_mode": {
    "name": "ipython",
    "version": 3
   },
   "file_extension": ".py",
   "mimetype": "text/x-python",
   "name": "python",
   "nbconvert_exporter": "python",
   "pygments_lexer": "ipython3",
   "version": "3.12.7"
  }
 },
 "nbformat": 4,
 "nbformat_minor": 5
}
